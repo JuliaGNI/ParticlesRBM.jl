{
 "cells": [
  {
   "cell_type": "code",
   "execution_count": 1,
   "metadata": {},
   "outputs": [],
   "source": [
    "using Plots, LinearAlgebra, HDF5, Random, FastGaussQuadrature, LaTeXStrings, Statistics"
   ]
  },
  {
   "cell_type": "code",
   "execution_count": 2,
   "metadata": {},
   "outputs": [
    {
     "data": {
      "text/plain": [
       "Plots.PyPlotBackend()"
      ]
     },
     "execution_count": 2,
     "metadata": {},
     "output_type": "execute_result"
    }
   ],
   "source": [
    "pyplot()\n",
    "Plots.PyPlotBackend()"
   ]
  },
  {
   "cell_type": "code",
   "execution_count": 3,
   "metadata": {},
   "outputs": [],
   "source": [
    "include(\"/home/tobias/Documents/IPP/VlasovPoissonRBM/src/splines.jl\")\n",
    "include(\"/home/tobias/Documents/IPP/VlasovPoissonRBM/src/poisson_solver_splines.jl\")\n",
    "include(\"/home/tobias/Documents/IPP/VlasovPoissonRBM/src/bump_on_tail_distributions.jl\")\n",
    "include(\"/home/tobias/Documents/IPP/VlasovPoissonRBM/src/sampling.jl\")\n",
    "include(\"/home/tobias/Documents/IPP/VlasovPoissonRBM/src/time_marching.jl\")\n",
    "include(\"/home/tobias/Documents/IPP/VlasovPoissonRBM/src/h5routines.jl\")\n",
    "include(\"/home/tobias/Documents/IPP/VlasovPoissonRBM/src/visualisation.jl\");"
   ]
  },
  {
   "cell_type": "code",
   "execution_count": 4,
   "metadata": {},
   "outputs": [],
   "source": [
    "fpath = \"runs/BoT_Np5e4_k_010_050_np_10_T25.h5\"\n",
    "\n",
    "μₛₐₘₚ = h5read(fpath, \"parameters/mu_samp\")\n",
    "μₜᵣₐᵢₙ = h5read(fpath, \"parameters/mu_train\")\n",
    "\n",
    "IP = IntegratorParameters(h5read(fpath, \"parameters/dt\"),\n",
    "                          h5read(fpath, \"parameters/n_t\"), \n",
    "                          h5read(fpath, \"parameters/n_s\"),\n",
    "                          h5read(fpath, \"parameters/n_p\"),\n",
    "                          h5read(fpath, \"parameters/n_h\"),\n",
    "                          h5read(fpath, \"parameters/N_p\")\n",
    "                            )\n",
    "\n",
    "S = PBSpline(h5read(fpath, \"parameters/p\"), IP.nₕ, 2.0*pi/μₛₐₘₚ[1])\n",
    "\n",
    "X = h5read(fpath, \"snapshots/X\");\n",
    "V = h5read(fpath, \"snapshots/V\");\n",
    "E = h5read(fpath, \"snapshots/E\");\n",
    "# D = h5read(fpath, \"snapshots/D\");\n",
    "# Φ = h5read(fpath, \"snapshots/Phi\");"
   ]
  },
  {
   "cell_type": "code",
   "execution_count": 5,
   "metadata": {},
   "outputs": [],
   "source": [
    "# Reference draw\n",
    "P₀ = Particles(X[:,1], V[:,1], ones(IP.Nₚ) .* S.L ./ IP.Nₚ);"
   ]
  },
  {
   "cell_type": "code",
   "execution_count": 6,
   "metadata": {},
   "outputs": [
    {
     "data": {
      "text/plain": [
       "1×5 Adjoint{Float64,Array{Float64,1}}:\n",
       " 0.3  0.03  0.1  4.5  0.5"
      ]
     },
     "execution_count": 6,
     "metadata": {},
     "output_type": "execute_result"
    }
   ],
   "source": [
    "μₛₐₘₚ' "
   ]
  },
  {
   "cell_type": "code",
   "execution_count": 7,
   "metadata": {},
   "outputs": [
    {
     "data": {
      "text/plain": [
       "10×5 Array{Float64,2}:\n",
       " 0.1       0.03  0.1  4.5  0.5\n",
       " 0.144444  0.03  0.1  4.5  0.5\n",
       " 0.188889  0.03  0.1  4.5  0.5\n",
       " 0.233333  0.03  0.1  4.5  0.5\n",
       " 0.277778  0.03  0.1  4.5  0.5\n",
       " 0.322222  0.03  0.1  4.5  0.5\n",
       " 0.366667  0.03  0.1  4.5  0.5\n",
       " 0.411111  0.03  0.1  4.5  0.5\n",
       " 0.455556  0.03  0.1  4.5  0.5\n",
       " 0.5       0.03  0.1  4.5  0.5"
      ]
     },
     "execution_count": 7,
     "metadata": {},
     "output_type": "execute_result"
    }
   ],
   "source": [
    "μₜᵣₐᵢₙ"
   ]
  },
  {
   "cell_type": "markdown",
   "metadata": {},
   "source": [
    "# EVD"
   ]
  },
  {
   "cell_type": "code",
   "execution_count": 8,
   "metadata": {},
   "outputs": [],
   "source": [
    "# XV = hcat(X, V);\n",
    "XV = copy(X)\n",
    "for p in 1:IP.nₚ\n",
    "    # XV = hcat(XV, V[:,1+(p-1)*IP.nₛ])\n",
    "    XV = hcat(XV, V[:,1+(p-1)*IP.nₛ]) #, E[:,p*IP.nₛ])\n",
    "    #print(1+(p-1)*IP.nₛ, \" \", p*IP.nₛ, \"\\n\" )\n",
    "end\n",
    "\n",
    "# clear \n",
    "X, V = 0, 0;"
   ]
  },
  {
   "cell_type": "code",
   "execution_count": 9,
   "metadata": {},
   "outputs": [
    {
     "data": {
      "text/plain": [
       "(50000, 2520)"
      ]
     },
     "execution_count": 9,
     "metadata": {},
     "output_type": "execute_result"
    }
   ],
   "source": [
    "size(XV)"
   ]
  },
  {
   "cell_type": "code",
   "execution_count": 10,
   "metadata": {},
   "outputs": [
    {
     "data": {
      "text/plain": [
       "sorteigen (generic function with 1 method)"
      ]
     },
     "execution_count": 10,
     "metadata": {},
     "output_type": "execute_result"
    }
   ],
   "source": [
    "function sorteigen(evals::Vector{T},evecs::Matrix{T}) where {T<:Real}\n",
    "    p = sortperm(abs.(evals), lt=isless, rev=true)\n",
    "    return evals[p], evecs[:, p]\n",
    "end"
   ]
  },
  {
   "cell_type": "code",
   "execution_count": 11,
   "metadata": {},
   "outputs": [
    {
     "name": "stdout",
     "output_type": "stream",
     "text": [
      " 16.171898 seconds (4.61 M allocations: 416.125 MiB, 0.08% gc time)\n",
      " 15.042327 seconds (27 allocations: 193.165 MiB)\n"
     ]
    }
   ],
   "source": [
    "# @time F = eigen(Xₑₓₜ' * Xₑₓₜ);\n",
    "# Λ, Ω = sorteigen(F.values, F.vectors);\n",
    "@time F = eigen(XV' * XV);\n",
    "Λ, Ω = sorteigen(F.values, F.vectors);\n",
    "@time Fₑ = eigen(E' * E);\n",
    "Λₑ, Ωₑ = sorteigen(Fₑ.values, Fₑ.vectors);"
   ]
  },
  {
   "cell_type": "code",
   "execution_count": 12,
   "metadata": {},
   "outputs": [],
   "source": [
    "# clear\n",
    "F, Fₑ = 0, 0\n",
    "GC.gc()"
   ]
  },
  {
   "cell_type": "code",
   "execution_count": 13,
   "metadata": {},
   "outputs": [
    {
     "data": {
      "image/png": "[encoded data removed]",
      "text/plain": [
       "PyPlot.Figure(PyObject <Figure size 640x480 with 1 Axes>)"
      ]
     },
     "metadata": {},
     "output_type": "display_data"
    },
    {
     "data": {
      "text/plain": [
       "PyObject <matplotlib.legend.Legend object at 0x7f3599bfd780>"
      ]
     },
     "execution_count": 13,
     "metadata": {},
     "output_type": "execute_result"
    }
   ],
   "source": [
    "PyPlot.plot(abs.(Λ)[1:1000])\n",
    "PyPlot.plot(abs.(Λₑ)[1:1000])\n",
    "PyPlot.xlabel(L\"$i$\")\n",
    "PyPlot.ylabel(L\"$\\lambda_i$\")\n",
    "PyPlot.yscale(\"log\")\n",
    "PyPlot.grid(\"true\", which=\"both\", alpha=0.5)\n",
    "PyPlot.legend([L\"$X$\", L\"$F$\"])\n",
    "#PyPlot.savefig(\"../Presentations/SPROM Workshop/SVDs_BoT.pdf\")"
   ]
  },
  {
   "cell_type": "code",
   "execution_count": 14,
   "metadata": {},
   "outputs": [
    {
     "data": {
      "image/png": "[encoded data removed]",
      "text/plain": [
       "PyPlot.Figure(PyObject <Figure size 640x480 with 1 Axes>)"
      ]
     },
     "metadata": {},
     "output_type": "display_data"
    }
   ],
   "source": [
    "PyPlot.plot(abs.(Λ))\n",
    "PyPlot.plot(abs.(Λₑ))\n",
    "PyPlot.xlabel(L\"$i$\")\n",
    "PyPlot.ylabel(L\"$\\lambda_i$\")\n",
    "PyPlot.yscale(\"log\")\n",
    "PyPlot.grid(\"true\", which=\"both\", alpha=0.5)\n",
    "#PyPlot.legend([L\"$X_v$\", L\"$E$\"])"
   ]
  },
  {
   "cell_type": "markdown",
   "metadata": {},
   "source": [
    "# Projection Matrices"
   ]
  },
  {
   "cell_type": "code",
   "execution_count": 15,
   "metadata": {},
   "outputs": [
    {
     "data": {
      "text/plain": [
       "114"
      ]
     },
     "execution_count": 15,
     "metadata": {},
     "output_type": "execute_result"
    }
   ],
   "source": [
    "function get_Ψ(S, Λ, Ω, tol, k=0)\n",
    "    E = sum(Λ)\n",
    "    Eᵣ = 0\n",
    "    if k == 0\n",
    "        k = 1\n",
    "        while 1 - (Eᵣ + Λ[k])/E > tol\n",
    "            Eᵣ += Λ[k]\n",
    "            k+=1\n",
    "        end\n",
    "    end\n",
    "    Ψ = S*Ω[:,1:k]\n",
    "    for i in 1:k\n",
    "        Ψ[:,i] ./= sqrt(abs.(Λ[i]))\n",
    "    end\n",
    "return k, Ψ\n",
    "end\n",
    "\n",
    "k, Ψ = get_Ψ(XV, Λ, Ω, 1e-9, 0)\n",
    "k"
   ]
  },
  {
   "cell_type": "code",
   "execution_count": 16,
   "metadata": {},
   "outputs": [
    {
     "data": {
      "text/plain": [
       "409"
      ]
     },
     "execution_count": 16,
     "metadata": {},
     "output_type": "execute_result"
    }
   ],
   "source": [
    "kₑ, Ψₑ = get_Ψ(E, Λₑ, Ωₑ, 1e-5, 0)\n",
    "kₑ"
   ]
  },
  {
   "cell_type": "code",
   "execution_count": 38,
   "metadata": {},
   "outputs": [],
   "source": [
    "# # clear \n",
    "XV, E = 0, 0\n",
    "Λ, Λₑ, Ω, Ωₑ = 0, 0, 0, 0\n",
    "GC.gc()"
   ]
  },
  {
   "cell_type": "markdown",
   "metadata": {},
   "source": [
    "# DEIM"
   ]
  },
  {
   "cell_type": "code",
   "execution_count": 17,
   "metadata": {},
   "outputs": [
    {
     "data": {
      "text/plain": [
       "deim_get_Π (generic function with 1 method)"
      ]
     },
     "execution_count": 17,
     "metadata": {},
     "output_type": "execute_result"
    }
   ],
   "source": [
    "function deim_get_Π(Ψ)\n",
    "    N, k = size(Ψ)\n",
    "    j = argmax(Ψ[:,1])\n",
    "    Π = zeros(N, k)\n",
    "    Π[j,1] = 1.0\n",
    "    r = zeros(N)\n",
    "\n",
    "    for i in 2:k\n",
    "        c = (Π[:,1:(i-1)]' * Ψ[:,1:(i-1)]) \\ (Π[:,1:(i-1)]' * Ψ[:,i])\n",
    "        r .= Ψ[:,i] - Ψ[:,1:(i-1)] * c\n",
    "        j = argmax(r)\n",
    "\n",
    "        Π[j,i] = 1.0\n",
    "    end\n",
    "    return Π\n",
    "end"
   ]
  },
  {
   "cell_type": "code",
   "execution_count": 18,
   "metadata": {},
   "outputs": [
    {
     "name": "stdout",
     "output_type": "stream",
     "text": [
      "195.819607 seconds (3.57 M allocations: 125.599 GiB, 4.73% gc time)\n"
     ]
    }
   ],
   "source": [
    "@time Πₑ = deim_get_Π(Ψₑ);"
   ]
  },
  {
   "cell_type": "code",
   "execution_count": 20,
   "metadata": {},
   "outputs": [],
   "source": [
    "h5open(\"runs/BoT_Np5e4_k_010_050_np_10_T25_projections.h5\", \"w\") do file\n",
    "    g = g_create(file, \"parameters\") # create a group\n",
    "    g[\"N_p\"] = IP.Nₚ\n",
    "    g[\"n_h\"] = S.nₕ\n",
    "    g[\"p\"] = S.p\n",
    "    g[\"dt\"] = IP.dt\n",
    "    g[\"n_t\"] = IP.nₜ\n",
    "    g[\"n_s\"] = IP.nₛ\n",
    "    g[\"n_p\"] = IP.nₚ\n",
    "    g[\"mu_samp\"] = μₛₐₘₚ             \n",
    "    g[\"mu_train\"] = μₜᵣₐᵢₙ\n",
    "    \n",
    "    g[\"k\"] = k\n",
    "    g[\"k_e\"] = kₑ\n",
    "         \n",
    "    f = g_create(file, \"projections\")\n",
    "    f[\"Psi\"] = Ψ\n",
    "    f[\"Psi_e\"] = Ψₑ\n",
    "    f[\"Pi_e\"] = Πₑ\n",
    "    \n",
    "    h = g_create(file, \"initial_condition\")\n",
    "    h[\"x_0\"] = P₀.x\n",
    "    h[\"v_0\"] = P₀.v\n",
    "    h[\"w\"] = P₀.w\n",
    "end;"
   ]
  },
  {
   "cell_type": "code",
   "execution_count": null,
   "metadata": {},
   "outputs": [],
   "source": []
  }
 ],
 "metadata": {
  "@webio": {
   "lastCommId": null,
   "lastKernelId": null
  },
  "kernelspec": {
   "display_name": "Julia 1.3.1",
   "language": "julia",
   "name": "julia-1.3"
  },
  "language_info": {
   "file_extension": ".jl",
   "mimetype": "application/julia",
   "name": "julia",
   "version": "1.3.1"
  }
 },
 "nbformat": 4,
 "nbformat_minor": 2
}

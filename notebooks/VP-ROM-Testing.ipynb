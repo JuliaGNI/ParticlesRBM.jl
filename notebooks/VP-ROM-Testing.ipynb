{
 "cells": [
  {
   "cell_type": "code",
   "execution_count": 1,
   "metadata": {},
   "outputs": [],
   "source": [
    "using Plots, LinearAlgebra, HDF5, Random, FastGaussQuadrature, LaTeXStrings, Statistics, SparseArrays"
   ]
  },
  {
   "cell_type": "code",
   "execution_count": 2,
   "metadata": {},
   "outputs": [
    {
     "data": {
      "text/plain": [
       "Plots.PyPlotBackend()"
      ]
     },
     "execution_count": 2,
     "metadata": {},
     "output_type": "execute_result"
    }
   ],
   "source": [
    "pyplot()\n",
    "Plots.PyPlotBackend()"
   ]
  },
  {
   "cell_type": "code",
   "execution_count": 3,
   "metadata": {},
   "outputs": [],
   "source": [
    "include(\"/home/tobias/Documents/IPP/VlasovPoissonRBM/src/splines.jl\")\n",
    "include(\"/home/tobias/Documents/IPP/VlasovPoissonRBM/src/poisson_solver_splines.jl\")\n",
    "include(\"/home/tobias/Documents/IPP/VlasovPoissonRBM/src/bump_on_tail_distributions.jl\")\n",
    "include(\"/home/tobias/Documents/IPP/VlasovPoissonRBM/src/sampling.jl\")\n",
    "include(\"/home/tobias/Documents/IPP/VlasovPoissonRBM/src/time_marching.jl\")\n",
    "include(\"/home/tobias/Documents/IPP/VlasovPoissonRBM/src/h5routines.jl\")\n",
    "include(\"/home/tobias/Documents/IPP/VlasovPoissonRBM/src/visualisation.jl\");"
   ]
  },
  {
   "cell_type": "code",
   "execution_count": 4,
   "metadata": {},
   "outputs": [],
   "source": [
    "fpath = \"runs/BoT_Np5e4_k_010_050_np_10_T25_projections.h5\"\n",
    "\n",
    "μₛₐₘₚ = h5read(fpath, \"parameters/mu_samp\")\n",
    "μₜᵣₐᵢₙ = h5read(fpath, \"parameters/mu_train\")\n",
    "\n",
    "IP = IntegratorParameters(h5read(fpath, \"parameters/dt\"),\n",
    "                          h5read(fpath, \"parameters/n_t\"), \n",
    "                          h5read(fpath, \"parameters/n_s\"),\n",
    "                          h5read(fpath, \"parameters/n_p\"),\n",
    "                          h5read(fpath, \"parameters/n_h\"),\n",
    "                          h5read(fpath, \"parameters/N_p\")\n",
    "                          )\n",
    "\n",
    "S = PBSpline(h5read(fpath, \"parameters/p\"), IP.nₕ, 2.0*pi/μₛₐₘₚ[1])\n",
    "\n",
    "Ψ = h5read(fpath, \"projections/Psi\");\n",
    "Ψₑ = h5read(fpath, \"projections/Psi_e\");\n",
    "Πₑ = sparse(h5read(fpath, \"projections/Pi_e\"));"
   ]
  },
  {
   "cell_type": "code",
   "execution_count": 5,
   "metadata": {},
   "outputs": [],
   "source": [
    "# Reference draw\n",
    "P₀ = Particles(h5read(fpath, \"initial_condition/x_0\"),\n",
    "                h5read(fpath, \"initial_condition/v_0\"),\n",
    "                h5read(fpath, \"initial_condition/w\") );"
   ]
  },
  {
   "cell_type": "code",
   "execution_count": 6,
   "metadata": {},
   "outputs": [
    {
     "data": {
      "text/plain": [
       "1×5 Adjoint{Float64,Array{Float64,1}}:\n",
       " 0.3  0.03  0.1  4.5  0.5"
      ]
     },
     "execution_count": 6,
     "metadata": {},
     "output_type": "execute_result"
    }
   ],
   "source": [
    "μₛₐₘₚ' "
   ]
  },
  {
   "cell_type": "markdown",
   "metadata": {},
   "source": [
    "# Test"
   ]
  },
  {
   "cell_type": "code",
   "execution_count": 7,
   "metadata": {},
   "outputs": [
    {
     "data": {
      "text/plain": [
       "10×5 Array{Float64,2}:\n",
       " 0.1       0.03  0.1  4.5  0.5\n",
       " 0.144444  0.03  0.1  4.5  0.5\n",
       " 0.188889  0.03  0.1  4.5  0.5\n",
       " 0.233333  0.03  0.1  4.5  0.5\n",
       " 0.277778  0.03  0.1  4.5  0.5\n",
       " 0.322222  0.03  0.1  4.5  0.5\n",
       " 0.366667  0.03  0.1  4.5  0.5\n",
       " 0.411111  0.03  0.1  4.5  0.5\n",
       " 0.455556  0.03  0.1  4.5  0.5\n",
       " 0.5       0.03  0.1  4.5  0.5"
      ]
     },
     "execution_count": 7,
     "metadata": {},
     "output_type": "execute_result"
    }
   ],
   "source": [
    "μₜᵣₐᵢₙ"
   ]
  },
  {
   "cell_type": "code",
   "execution_count": 26,
   "metadata": {},
   "outputs": [
    {
     "data": {
      "text/plain": [
       "10×5 Array{Float64,2}:\n",
       " 0.166245  0.03  0.1  4.5  0.5\n",
       " 0.173762  0.03  0.1  4.5  0.5\n",
       " 0.215176  0.03  0.1  4.5  0.5\n",
       " 0.26139   0.03  0.1  4.5  0.5\n",
       " 0.271365  0.03  0.1  4.5  0.5\n",
       " 0.284359  0.03  0.1  4.5  0.5\n",
       " 0.308004  0.03  0.1  4.5  0.5\n",
       " 0.380056  0.03  0.1  4.5  0.5\n",
       " 0.394371  0.03  0.1  4.5  0.5\n",
       " 0.460984  0.03  0.1  4.5  0.5"
      ]
     },
     "execution_count": 26,
     "metadata": {},
     "output_type": "execute_result"
    }
   ],
   "source": [
    "nₜₑₛₜ = 10\n",
    "κₜₑₛₜ_ₘᵢₙ = 0.1; κₜₑₛₜ_ₘₐₓ = 0.5\n",
    "\n",
    "μₜₑₛₜ = zeros(nₜₑₛₜ, 5)\n",
    "for i in 1:nₜₑₛₜ\n",
    "    μₜₑₛₜ[i,:] = [κₜₑₛₜ_ₘᵢₙ, μₛₐₘₚ[2], μₛₐₘₚ[3], μₛₐₘₚ[4], μₛₐₘₚ[5]]\n",
    "end\n",
    "\n",
    "λ = 0\n",
    "for i in 1:nₜₑₛₜ\n",
    "    if nₜₑₛₜ > 1\n",
    "        μₜₑₛₜ[i,1] = rand(1)[1]*(κₜₑₛₜ_ₘₐₓ - κₜₑₛₜ_ₘᵢₙ) + κₜₑₛₜ_ₘᵢₙ\n",
    "#         μₜₑₛₜ[i,1] = (1-λ)*κₜₑₛₜ_ₘᵢₙ + λ*κₜₑₛₜ_ₘₐₓ\n",
    "#         λ += 1/(nₜₑₛₜ-1)\n",
    "    end\n",
    "end  \n",
    "\n",
    "μₜₑₛₜ = μₜₑₛₜ[sortperm(μₜₑₛₜ[:, 1]), :]"
   ]
  },
  {
   "cell_type": "code",
   "execution_count": 27,
   "metadata": {},
   "outputs": [],
   "source": [
    "GC.gc()"
   ]
  },
  {
   "cell_type": "code",
   "execution_count": 28,
   "metadata": {},
   "outputs": [],
   "source": [
    "IPₜₑₛₜ = IntegratorParameters(IP.dt, IP.nₜ, IP.nₜ+1, nₜₑₛₜ, S.nₕ, IP.Nₚ)\n",
    "ICₜₑₛₜ = IntegratorCache(IPₜₑₛₜ);\n",
    "K = stiffnessmatrix_PBSpline(S)\n",
    "K_ = zero(K); K_ .= K; K_[S.nₕ,:] = ones(S.nₕ);"
   ]
  },
  {
   "cell_type": "code",
   "execution_count": 29,
   "metadata": {},
   "outputs": [
    {
     "name": "stdout",
     "output_type": "stream",
     "text": [
      "parameter nb. 1\n",
      "parameter nb. 2\n",
      "parameter nb. 3\n",
      "parameter nb. 4\n",
      "parameter nb. 5\n",
      "parameter nb. 6\n",
      "parameter nb. 7\n",
      "parameter nb. 8\n",
      "parameter nb. 9\n",
      "parameter nb. 10\n",
      "336.042136 seconds (382.97 M allocations: 58.279 GiB, 2.59% gc time)\n"
     ]
    }
   ],
   "source": [
    "@time Rₜₑₛₜ = integrate_vp(P₀, S, μₜₑₛₜ, μₛₐₘₚ, K_, IPₜₑₛₜ, ICₜₑₛₜ;\n",
    "                            given_phi = false, save = true);\n",
    "# Xₜₑₛₜ = Rₜₑₛₜ.X\n",
    "# Vₜₑₛₜ = Rₜₑₛₜ.V\n",
    "# Φₜₑₛₜ = Rₜₑₛₜ.Φ;"
   ]
  },
  {
   "cell_type": "code",
   "execution_count": 30,
   "metadata": {},
   "outputs": [
    {
     "data": {
      "text/plain": [
       "(16, 2510)"
      ]
     },
     "execution_count": 30,
     "metadata": {},
     "output_type": "execute_result"
    }
   ],
   "source": [
    "Φₜₑₛₜ = copy(Rₜₑₛₜ.Φ)\n",
    "size(Φₜₑₛₜ)"
   ]
  },
  {
   "cell_type": "raw",
   "metadata": {},
   "source": [
    "# no saving\n",
    "@time integrate_vp(P₀, S, μₜₑₛₜ, μₛₐₘₚ, K_, IPₜₑₛₜ, ICₜₑₛₜ;\n",
    "                    given_phi = false, save = false);"
   ]
  },
  {
   "cell_type": "markdown",
   "metadata": {},
   "source": [
    "# Reduced Model"
   ]
  },
  {
   "cell_type": "code",
   "execution_count": 31,
   "metadata": {},
   "outputs": [
    {
     "data": {
      "text/plain": [
       "(114, 409)"
      ]
     },
     "execution_count": 31,
     "metadata": {},
     "output_type": "execute_result"
    }
   ],
   "source": [
    "k = size(Ψ)[2]\n",
    "kₑ = size(Ψₑ)[2]\n",
    "k, kₑ"
   ]
  },
  {
   "cell_type": "code",
   "execution_count": 32,
   "metadata": {},
   "outputs": [],
   "source": [
    "RIC = ReducedIntegratorCache(IPₜₑₛₜ, k, kₑ);"
   ]
  },
  {
   "cell_type": "code",
   "execution_count": 33,
   "metadata": {},
   "outputs": [],
   "source": [
    "ΨᵀPₑ = Ψ' * Ψₑ * inv(Πₑ' * Ψₑ)\n",
    "ΠₑᵀΨ = Πₑ' * Ψ;"
   ]
  },
  {
   "cell_type": "code",
   "execution_count": 34,
   "metadata": {},
   "outputs": [
    {
     "name": "stdout",
     "output_type": "stream",
     "text": [
      "running parameter nb. 1 with chi = 0.554149335040845\n",
      "running parameter nb. 2 with chi = 0.5792057398423942\n",
      "running parameter nb. 3 with chi = 0.7172543343318054\n",
      "running parameter nb. 4 with chi = 0.8712993492525841\n",
      "running parameter nb. 5 with chi = 0.9045491877259534\n",
      "running parameter nb. 6 with chi = 0.9478632254107022\n",
      "running parameter nb. 7 with chi = 1.0266797271565917\n",
      "running parameter nb. 8 with chi = 1.266854255991193\n",
      "running parameter nb. 9 with chi = 1.314568578732566\n",
      "running parameter nb. 10 with chi = 1.5366137805086344\n",
      "160.179194 seconds (4.87 M allocations: 17.211 GiB, 0.18% gc time)\n"
     ]
    }
   ],
   "source": [
    "@time Rᵣₘ = reduced_integrate_vp(P₀, Ψ, ΨᵀPₑ, ΠₑᵀΨ, S, μₜₑₛₜ, μₛₐₘₚ, K_, IPₜₑₛₜ, RIC;\n",
    "                                   DEIM=true, given_phi = false, save = true);\n",
    "# Xᵣₘ = Ψ * Rᵣₘ.Zₓ\n",
    "# Vᵣₘ = Ψ * Rᵣₘ.Zᵥ\n",
    "# Φᵣₘ = Rᵣₘ.Φ;"
   ]
  },
  {
   "cell_type": "raw",
   "metadata": {},
   "source": [
    "# no saving\n",
    "@time reduced_integrate_vp(P₀, Ψ, ΨᵀPₑ, ΠₑᵀΨ, S, μₜₑₛₜ, μₛₐₘₚ, K_, IPₜₑₛₜ, RIC;\n",
    "                            DEIM=true, given_phi = false, save=false);"
   ]
  },
  {
   "cell_type": "code",
   "execution_count": 60,
   "metadata": {},
   "outputs": [],
   "source": [
    "# Saving"
   ]
  },
  {
   "cell_type": "code",
   "execution_count": 36,
   "metadata": {},
   "outputs": [],
   "source": [
    "h5open(\"runs/BoT_Np5e4_k_010_050_np_10_T25_DEIM.h5\", \"w\") do file\n",
    "    g = g_create(file, \"parameters\") # create a group\n",
    "    g[\"N_p\"] = IPₜₑₛₜ.Nₚ\n",
    "    g[\"n_h\"] = S.nₕ\n",
    "    g[\"p\"] = S.p\n",
    "    g[\"dt\"] = IPₜₑₛₜ.dt\n",
    "    g[\"n_t\"] = IPₜₑₛₜ.nₜ\n",
    "    g[\"n_s\"] = IPₜₑₛₜ.nₛ\n",
    "    g[\"n_p\"] = IPₜₑₛₜ.nₚ\n",
    "    g[\"mu_samp\"] = μₛₐₘₚ \n",
    "    g[\"mu_train\"] = μₜᵣₐᵢₙ\n",
    "    g[\"mu_test\"] = μₜₑₛₜ\n",
    "    \n",
    "    f = g_create(file, \"snapshots\")\n",
    "    f[\"X_test\"] = Rₜₑₛₜ.X\n",
    "    f[\"V_test\"] = Rₜₑₛₜ.V\n",
    "    f[\"Phi_test\"] = Rₜₑₛₜ.Φ\n",
    "    f[\"X_rm\"] = Ψ * Rᵣₘ.Zₓ\n",
    "    f[\"V_rm\"] = Ψ * Rᵣₘ.Zᵥ\n",
    "    f[\"Phi_rm\"] = Rᵣₘ.Φ\n",
    "end;"
   ]
  },
  {
   "cell_type": "code",
   "execution_count": 24,
   "metadata": {},
   "outputs": [
    {
     "data": {
      "text/plain": [
       "0.0"
      ]
     },
     "execution_count": 24,
     "metadata": {},
     "output_type": "execute_result"
    }
   ],
   "source": [
    "norm(Rᵣₘ.Φ - Φₜₑₛₜ)"
   ]
  },
  {
   "cell_type": "code",
   "execution_count": 25,
   "metadata": {},
   "outputs": [
    {
     "data": {
      "text/plain": [
       "0.0"
      ]
     },
     "execution_count": 25,
     "metadata": {},
     "output_type": "execute_result"
    }
   ],
   "source": [
    "norm(Rₜₑₛₜ.Φ - Φₜₑₛₜ)"
   ]
  },
  {
   "cell_type": "code",
   "execution_count": null,
   "metadata": {},
   "outputs": [],
   "source": []
  }
 ],
 "metadata": {
  "@webio": {
   "lastCommId": null,
   "lastKernelId": null
  },
  "kernelspec": {
   "display_name": "Julia 1.3.1",
   "language": "julia",
   "name": "julia-1.3"
  },
  "language_info": {
   "file_extension": ".jl",
   "mimetype": "application/julia",
   "name": "julia",
   "version": "1.3.1"
  }
 },
 "nbformat": 4,
 "nbformat_minor": 2
}

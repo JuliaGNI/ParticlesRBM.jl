{
 "cells": [
  {
   "cell_type": "code",
   "execution_count": null,
   "metadata": {},
   "outputs": [],
   "source": [
    "using Plots, LaTeXStrings\n",
    "using Random"
   ]
  },
  {
   "cell_type": "code",
   "execution_count": null,
   "metadata": {},
   "outputs": [],
   "source": [
    "include(\"../src/splines.jl\")\n",
    "include(\"../src/poisson_solver_splines.jl\")\n",
    "include(\"../src/bump_on_tail_distributions.jl\")\n",
    "include(\"../src/sampling.jl\")\n",
    "include(\"../src/time_marching.jl\")\n",
    "include(\"../src/h5routines.jl\")\n",
    "include(\"../src/regression.jl\")\n",
    "include(\"../src/visualisation.jl\");"
   ]
  },
  {
   "cell_type": "code",
   "execution_count": null,
   "metadata": {},
   "outputs": [],
   "source": [
    "nₚ₁ = 10\n",
    "nₚ₂ = 1\n",
    "nₚ₃ = 1\n",
    "nₚ₄ = 1\n",
    "nₚ₅ = 1\n",
    "\n",
    "IP = IntegratorParameters(1e-1, 250, 251, nₚ₁*nₚ₂*nₚ₃*nₚ₄*nₚ₅, 16, Int(5e3))\n",
    "#                           dt   nₜ   nₛ          nₚ            nₕ    Nₚ\n",
    "\n",
    "κₘᵢₙ  = 0.1;  κₘₐₓ  = 0.5;\n",
    "εₘᵢₙ  = 0.03; εₘₐₓ  = 0.03;\n",
    "aₘᵢₙ  = 0.1;  aₘₐₓ  = 0.1;\n",
    "v₀ₘᵢₙ = 4.5;  v₀ₘₐₓ = 4.5;\n",
    "σₘᵢₙ  = 0.5;  σₘₐₓ  = 0.5;\n",
    "\n",
    "κₛₐₘₚ = 0.3; εₛₐₘₚ = 0.03; aₛₐₘₚ = 0.1; v₀ₛₐₘₚ= 4.5; σₛₐₘₚ = 0.5\n",
    "\n",
    "#ζₘₐₓ = (κₛₐₘₚ/κₘᵢₙ); ζₘᵢₙ = (κₛₐₘₚ/κₘₐₓ)\n",
    "#         ζ = λ*ζₘᵢₙ + (1-λ)*ζₘₐₓ\n",
    "#         μ[i,1] = κₛₐₘₚ/ζ\n",
    "\n",
    "μ = zeros(IP.nₚ, 5)\n",
    "for i in 1:IP.nₚ\n",
    "    μ[i,:] = [κₘᵢₙ, εₛₐₘₚ, aₛₐₘₚ, v₀ₛₐₘₚ, σₛₐₘₚ]\n",
    "end\n",
    "\n",
    "for i in 1:IP.nₚ\n",
    "    μ[i,1] += (κₘₐₓ - κₘᵢₙ)*(i-1)/(IP.nₚ-1)\n",
    "end\n",
    "\n",
    "# for i in 1:IP.nₚ\n",
    "#     μ[i,:] = [κₘᵢₙ + rand(1)[1] * (κₘₐₓ - κₘᵢₙ), \n",
    "#             εₘᵢₙ + rand(1)[1] * (εₘₐₓ - εₘᵢₙ), \n",
    "#             aₘᵢₙ + rand(1)[1] * (aₘₐₓ - aₘᵢₙ),\n",
    "#             v₀ₘᵢₙ + rand(1)[1] * (v₀ₘₐₓ - v₀ₘᵢₙ),\n",
    "#             σₘᵢₙ + rand(1)[1] * (σₘₐₓ - σₘᵢₙ)]\n",
    "# end\n",
    "\n",
    "# wave number κ, amplitude ε, tail percentage, tail mean v₀, tail sd σ\n",
    "μₛₐₘₚ = [κₛₐₘₚ, εₛₐₘₚ, aₛₐₘₚ, v₀ₛₐₘₚ, σₛₐₘₚ]\n",
    "\n",
    "μ"
   ]
  },
  {
   "cell_type": "code",
   "execution_count": null,
   "metadata": {},
   "outputs": [],
   "source": [
    "χ = μ[:,1] ./ κₛₐₘₚ"
   ]
  },
  {
   "cell_type": "code",
   "execution_count": null,
   "metadata": {},
   "outputs": [],
   "source": [
    "const S = PBSpline(3, IP.nₕ, 2π/μₛₐₘₚ[1]);"
   ]
  },
  {
   "cell_type": "code",
   "execution_count": null,
   "metadata": {},
   "outputs": [],
   "source": [
    "Random.seed!(1234)"
   ]
  },
  {
   "cell_type": "code",
   "execution_count": null,
   "metadata": {},
   "outputs": [],
   "source": [
    "# Reference draw\n",
    "P₀ = draw_g_bumpontail_accept_reject(IP.Nₚ, fₓ, μₛₐₘₚ);"
   ]
  },
  {
   "cell_type": "code",
   "execution_count": null,
   "metadata": {},
   "outputs": [],
   "source": [
    "@time IC = IntegratorCache(IP);"
   ]
  },
  {
   "cell_type": "code",
   "execution_count": null,
   "metadata": {},
   "outputs": [],
   "source": [
    "K = stiffnessmatrix_PBSpline(S)\n",
    "K_ = zero(K); K_ .= K; K_[S.nₕ,:] = ones(S.nₕ);"
   ]
  },
  {
   "cell_type": "code",
   "execution_count": null,
   "metadata": {},
   "outputs": [],
   "source": [
    "@time Result = integrate_vp(P₀, S, μ, μₛₐₘₚ, K_, IP, IC; save=true, given_phi = false);"
   ]
  },
  {
   "cell_type": "code",
   "execution_count": null,
   "metadata": {},
   "outputs": [],
   "source": [
    "#  13.924736 seconds (43.08 M allocations: 5.875 GiB, 6.93% gc time)\n",
    "#  8.762504 seconds (680.00 k allocations: 35.518 MiB, 0.32% gc time)   # eval_deriv_PBSBasis\n",
    "#  8.854784 seconds (601.51 k allocations: 31.372 MiB)                  # eval_PBSBasis"
   ]
  },
  {
   "cell_type": "code",
   "execution_count": null,
   "metadata": {},
   "outputs": [],
   "source": [
    "save_h5(\"../runs/BoT_Np5e4_k_010_050_np_10_T25.h5\", IP, S, μₛₐₘₚ, μ, Result);"
   ]
  },
  {
   "cell_type": "code",
   "execution_count": null,
   "metadata": {},
   "outputs": [],
   "source": [
    "W = zero(Result.Φ[1,:]);\n",
    "\n",
    "for i in eachindex(W)\n",
    "    W[i] = 0.5 * dot(Result.Φ[:,i], K*Result.Φ[:,i])\n",
    "end\n",
    "\n",
    "W = reshape(W, (IP.nₛ,IP.nₚ));\n",
    "\n",
    "for p in 1:IP.nₚ\n",
    "    W[:,p] .*= χ[p]^2\n",
    "end"
   ]
  },
  {
   "cell_type": "code",
   "execution_count": null,
   "metadata": {},
   "outputs": [],
   "source": [
    "t1 = collect(range(0, stop=IP.dt*IP.nₜ, length=IP.nₛ));"
   ]
  },
  {
   "cell_type": "code",
   "execution_count": null,
   "metadata": {},
   "outputs": [],
   "source": [
    "plot(t1, W[:,:], linewidth = 2, xlabel = L\"$n_t$\", yscale = :log10, legend = :none,\n",
    "     grid = true, gridalpha = 0.5, minorgrid = true, minorgridalpha = 0.2)"
   ]
  },
  {
   "cell_type": "markdown",
   "metadata": {},
   "source": [
    "IC = 0\n",
    "Result = 0\n",
    "GC.gc()"
   ]
  },
  {
   "cell_type": "code",
   "execution_count": null,
   "metadata": {},
   "outputs": [],
   "source": [
    "α, β = get_regression_αβ(t1, W, 2)\n",
    "β"
   ]
  },
  {
   "cell_type": "code",
   "execution_count": null,
   "metadata": {},
   "outputs": [],
   "source": [
    "Wₗᵢₙ = zero(W)\n",
    "for i in 1:size(W,2)\n",
    "    Wₗᵢₙ[:,i] .= exp.(α[i] .+ β[i] .* t1)\n",
    "end"
   ]
  },
  {
   "cell_type": "code",
   "execution_count": null,
   "metadata": {},
   "outputs": [],
   "source": [
    "plot(xlabel = L\"$n_t$\", yscale = :log10, ylims = (1E-3,1E1), legend = :none,\n",
    "     grid = true, gridalpha = 0.5, minorgrid = true, minorgridalpha = 0.2)\n",
    "plot!(t1, W[:,1:5], linewidth = 2, alpha = 0.25)\n",
    "plot!(t1, Wₗᵢₙ[:,1:5], linewidth = 2, alpha = 0.5)"
   ]
  },
  {
   "cell_type": "code",
   "execution_count": null,
   "metadata": {},
   "outputs": [],
   "source": [
    "plot(xlabel = L\"$n_t$\", yscale = :log10, ylims = (1E-3,1E1), legend = :none,\n",
    "     grid = true, gridalpha = 0.5, minorgrid = true, minorgridalpha = 0.2)\n",
    "plot!(t1, W[:,6:10], linewidth = 2, alpha = 0.25)\n",
    "plot!(t1, Wₗᵢₙ[:,6:10], linewidth = 2, alpha = 0.5)"
   ]
  },
  {
   "cell_type": "code",
   "execution_count": null,
   "metadata": {},
   "outputs": [],
   "source": []
  }
 ],
 "metadata": {
  "@webio": {
   "lastCommId": null,
   "lastKernelId": null
  },
  "kernelspec": {
   "display_name": "Julia 1.6.0-rc3",
   "language": "julia",
   "name": "julia-1.6"
  },
  "language_info": {
   "file_extension": ".jl",
   "mimetype": "application/julia",
   "name": "julia",
   "version": "1.6.0"
  }
 },
 "nbformat": 4,
 "nbformat_minor": 2
}
